{
  "nbformat": 4,
  "nbformat_minor": 0,
  "metadata": {
    "colab": {
      "name": "VoiceCloningColab.ipynb",
      "private_outputs": true,
      "provenance": [],
      "collapsed_sections": [],
      "authorship_tag": "ABX9TyMZb+iZjA2/269PoC2HxfX/",
      "include_colab_link": true
    },
    "kernelspec": {
      "name": "python3",
      "display_name": "Python 3"
    },
    "language_info": {
      "name": "python"
    },
    "accelerator": "GPU"
  },
  "cells": [
    {
      "cell_type": "markdown",
      "metadata": {
        "id": "view-in-github",
        "colab_type": "text"
      },
      "source": [
        "<a href=\"https://colab.research.google.com/github/ericstheguy/Colab-Notebooks/blob/main/VoiceCloningColab.ipynb\" target=\"_parent\"><img src=\"https://colab.research.google.com/assets/colab-badge.svg\" alt=\"Open In Colab\"/></a>"
      ]
    },
    {
      "cell_type": "markdown",
      "metadata": {
        "id": "XW69tiHUPKZQ"
      },
      "source": [
        "# **Voice Cloning App, Using Ngrok for GUI.**\n",
        "* *Change runtime type to GPU*\n",
        "*  https://github.com/BenAAndrew/Voice-Cloning-App"
      ]
    },
    {
      "cell_type": "markdown",
      "metadata": {
        "id": "dVapejORklxi"
      },
      "source": [
        "***Create dataset, train & synthesize model using colab.*** *(Runs in, and saves to Google Drive now.)*"
      ]
    },
    {
      "cell_type": "code",
      "metadata": {
        "id": "EpVGXa-hcjxk",
        "cellView": "form"
      },
      "source": [
        "#@title Check GPU (Do _Runtime>Factory reset runtime_ if it is a K80 / P4.)\n",
        "!nvidia-smi -L"
      ],
      "execution_count": null,
      "outputs": []
    },
    {
      "cell_type": "markdown",
      "metadata": {
        "id": "rRj1qqaD9xwc"
      },
      "source": [
        "## Start"
      ]
    },
    {
      "cell_type": "code",
      "metadata": {
        "id": "7SFeLB38j5vw",
        "cellView": "form"
      },
      "source": [
        "#@title Mount Drive (Recommended)\n",
        "from google.colab import drive\n",
        "drive.mount('/content/drive')"
      ],
      "execution_count": null,
      "outputs": []
    },
    {
      "cell_type": "code",
      "metadata": {
        "id": "Cy7-uge8WL3l",
        "cellView": "form"
      },
      "source": [
        "#@title Installation (ETA: 3.4 Min)\n",
        "from distutils.dir_util import copy_tree\n",
        "import shutil\n",
        "%cd /content/drive/MyDrive\n",
        "!git clone https://github.com/BenAAndrew/Voice-Cloning-App\n",
        "%cd ./Voice-Cloning-App\n",
        "!pip install flask-ngrok\n",
        "!pip install -r requirements.txt\n",
        "#!pip install flask-ngrok python-engineio flask_socketio pydub webrtcvad omegaconf unidecode\n",
        "#!pip install torch==1.8.1+cu111 torchvision==0.9.1+cu111 torchaudio===0.8.1 -f https://download.pytorch.org/whl/torch_stable.html\n",
        "%cd /content\n",
        "!wget -q -c -nc https://bin.equinox.io/c/4VmDzA7iaHb/ngrok-stable-linux-amd64.zip\n",
        "!unzip -qq -n ngrok-stable-linux-amd64.zip"
      ],
      "execution_count": null,
      "outputs": []
    },
    {
      "cell_type": "markdown",
      "metadata": {
        "id": "23sIwN1CP_Um"
      },
      "source": [
        "### Application"
      ]
    },
    {
      "cell_type": "markdown",
      "metadata": {
        "id": "rSj1cL76trB4"
      },
      "source": [
        "**Might have to run this cell two times:**"
      ]
    },
    {
      "cell_type": "code",
      "metadata": {
        "id": "kqVaqcVaPlhV",
        "cellView": "form"
      },
      "source": [
        "#@title Retrieve Ngrok Link\n",
        "%cd /content\n",
        "get_ipython().system_raw('./ngrok http 5000 &')\n",
        "!curl -s http://localhost:4040/api/tunnels | python3 -c \\\n",
        "'import sys, json; print(\"Run the cell below, before clicking this URL: \" +json.load(sys.stdin)[\"tunnels\"][0][\"public_url\"])'"
      ],
      "execution_count": null,
      "outputs": []
    },
    {
      "cell_type": "code",
      "metadata": {
        "id": "S6Si0YUqPyHy",
        "cellView": "form"
      },
      "source": [
        "#@title Run Voice-Cloning-App\n",
        "%cd /content/drive/MyDrive/Voice-Cloning-App\n",
        "print(\"Use the link above instead.\")\n",
        "print(\"Use the link above instead.\")\n",
        "!python main.py"
      ],
      "execution_count": null,
      "outputs": []
    },
    {
      "cell_type": "markdown",
      "metadata": {
        "id": "lsCpBqJaNwUB"
      },
      "source": [
        "**To restart the app, run the two cells in order again.**"
      ]
    },
    {
      "cell_type": "markdown",
      "metadata": {
        "id": "31zDNrmPYXeh"
      },
      "source": [
        "###Training Information"
      ]
    },
    {
      "cell_type": "markdown",
      "metadata": {
        "id": "QnQUnz9PP6B3"
      },
      "source": [
        "**Recommended to set batch size in training the highest, before getting an OOM error. In *Advanced options.*** "
      ]
    },
    {
      "cell_type": "code",
      "metadata": {
        "id": "G49i2z8mm4Zf",
        "cellView": "form"
      },
      "source": [
        "#@title GPU info (Includes Memory Amount)\n",
        "!nvidia-smi"
      ],
      "execution_count": null,
      "outputs": []
    },
    {
      "cell_type": "markdown",
      "metadata": {
        "id": "9PDE9RiyYpM1"
      },
      "source": [
        "**Train on multiple google accounts.** \n",
        "<p>Use this colab notebook on a different account. Then mount drive using the original account which includes all data."
      ]
    },
    {
      "cell_type": "markdown",
      "metadata": {
        "id": "G3V-65TKKD0e"
      },
      "source": [
        "### Extra"
      ]
    },
    {
      "cell_type": "code",
      "metadata": {
        "id": "t95DcSP_JzAx",
        "cellView": "form"
      },
      "source": [
        "#@title Clear GDrive Save (Permanent) \n",
        "shutil.rmtree(\"/content/drive/MyDrive/VCAdata/\")\n",
        "print(\"Done\")"
      ],
      "execution_count": null,
      "outputs": []
    },
    {
      "cell_type": "markdown",
      "metadata": {
        "id": "1Gk61QMooSfl"
      },
      "source": [
        "54, 50"
      ]
    }
  ]
}